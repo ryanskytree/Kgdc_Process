{
  "nbformat": 4,
  "nbformat_minor": 0,
  "metadata": {
    "colab": {
      "provenance": [],
      "gpuType": "T4",
      "authorship_tag": "ABX9TyMooS3mmxwiP3CH5b6vtWmZ",
      "include_colab_link": true
    },
    "kernelspec": {
      "name": "python3",
      "display_name": "Python 3"
    },
    "language_info": {
      "name": "python"
    },
    "accelerator": "GPU"
  },
  "cells": [
    {
      "cell_type": "markdown",
      "metadata": {
        "id": "view-in-github",
        "colab_type": "text"
      },
      "source": [
        "<a href=\"https://colab.research.google.com/github/ryanskytree/Kgdc_Process/blob/main/KGDC_choose_K.ipynb\" target=\"_parent\"><img src=\"https://colab.research.google.com/assets/colab-badge.svg\" alt=\"Open In Colab\"/></a>"
      ]
    },
    {
      "cell_type": "code",
      "execution_count": null,
      "metadata": {
        "id": "WOOT37COOK-w"
      },
      "outputs": [],
      "source": [
        "!pip install torch_geometric\n",
        "import sys\n",
        "sys.path.append(\"/content/drive/MyDrive/KorderGraphDiffusionConv/\")\n",
        "import GDC"
      ]
    },
    {
      "cell_type": "code",
      "source": [
        "import argparse\n",
        "import os.path as osp\n",
        "import time\n",
        "\n",
        "import torch\n",
        "import torch.nn.functional as F\n",
        "\n",
        "import torch_geometric.transforms as T\n",
        "from torch_geometric.datasets import Planetoid\n",
        "from torch_geometric.logging import init_wandb, log\n",
        "from torch_geometric.nn import GCNConv\n",
        "\n",
        "\n",
        "dataset='Cora'\n",
        "lr=0.01\n",
        "hidden_channels=16\n",
        "epochs=1000\n",
        "use_gdc='Use GDC'\n",
        "wandb='Track experiment'\n",
        "\n",
        "\n",
        "if torch.cuda.is_available():\n",
        "    device = torch.device('cuda')\n",
        "elif hasattr(torch.backends, 'mps') and torch.backends.mps.is_available():\n",
        "    device = torch.device('mps')\n",
        "else:\n",
        "    device = torch.device('cpu')\n",
        "\n",
        "init_wandb(\n",
        "    name=f'GCN-{dataset}',\n",
        "    lr=lr,\n",
        "    epochs=epochs,\n",
        "    hidden_channels=hidden_channels,\n",
        "    device=device,\n",
        ")\n",
        "\n",
        "dataset = Planetoid(root='/tmp/cora', name='Cora', transform=T.NormalizeFeatures())\n"
      ],
      "metadata": {
        "id": "ilKqLhrfOU2A"
      },
      "execution_count": null,
      "outputs": []
    },
    {
      "cell_type": "code",
      "source": [
        "class GCN(torch.nn.Module):\n",
        "    def __init__(self, in_channels, hidden_channels, out_channels):\n",
        "        super().__init__()\n",
        "        self.conv1 = GCNConv(in_channels, hidden_channels)\n",
        "        self.conv2 = GCNConv(hidden_channels, out_channels)\n",
        "\n",
        "    def forward(self, x, edge_index, edge_weight=None):\n",
        "        x = F.dropout(x, p=0.5, training=self.training)\n",
        "        x = self.conv1(x, edge_index, edge_weight).relu()\n",
        "        x = F.dropout(x, p=0.5, training=self.training)\n",
        "        x = self.conv2(x, edge_index, edge_weight)\n",
        "        return x\n",
        "model = GCN(\n",
        "    in_channels     = dataset.num_features,\n",
        "    hidden_channels = hidden_channels,\n",
        "    out_channels    = dataset.num_classes,\n",
        ").to(device)\n",
        "\n",
        "optimizer = torch.optim.Adam([\n",
        "    dict(params=model.conv1.parameters(), weight_decay=5e-4),\n",
        "    dict(params=model.conv2.parameters(), weight_decay=5e-5)\n",
        "], lr)  # Only perform weight-decay on first convolution.\n",
        "\n",
        "def train():\n",
        "    model.train()\n",
        "    optimizer.zero_grad()\n",
        "    out = model(data.x, data.edge_index, data.edge_attr)\n",
        "    loss = F.cross_entropy(out[data.train_mask], data.y[data.train_mask])\n",
        "    loss.backward()\n",
        "    optimizer.step()\n",
        "    return float(loss)\n",
        "\n",
        "\n",
        "@torch.no_grad()\n",
        "def test():\n",
        "    model.eval()\n",
        "    pred = model(data.x, data.edge_index, data.edge_attr).argmax(dim=-1)\n",
        "    accs = []\n",
        "    for mask in [data.train_mask, data.val_mask, data.test_mask]:\n",
        "        accs.append(int((pred[mask] == data.y[mask]).sum()) / int(mask.sum()))\n",
        "    return accs"
      ],
      "metadata": {
        "id": "-n-QrZJJOejI"
      },
      "execution_count": null,
      "outputs": []
    },
    {
      "cell_type": "code",
      "source": [
        "import GDC\n",
        "choose_k_list=[]\n",
        "for choose_k in range(1,20):\n",
        "    transform = GDC.GDC(\n",
        "        diffusion_kwargs=dict(method='korder', alpha=0.05,t=5),\n",
        "        kinput = choose_k,\n",
        "        )\n",
        "    data = transform(dataset[0].to(device))\n",
        "    best_val_acc = test_acc = 0\n",
        "    times = []\n",
        "    for epoch in range(1, epochs + 1):\n",
        "        start = time.time()\n",
        "        loss = train()\n",
        "        train_acc, val_acc, tmp_test_acc = test()\n",
        "        if val_acc > best_val_acc:\n",
        "            best_val_acc = val_acc\n",
        "            test_acc = tmp_test_acc\n",
        "        if epoch%100==0:\n",
        "            log(Epoch=epoch, Loss=loss, Train=train_acc, Val=val_acc, Test=test_acc)\n",
        "        times.append(time.time() - start)\n",
        "    print(f'Median time per epoch: {torch.tensor(times).median():.4f}s')\n",
        "    choose_k_list.append(test_acc)\n",
        "choose_k_list = np.array(choose_k_list)\n",
        "print(np.max(choose_k_list))"
      ],
      "metadata": {
        "id": "Pv3Chb5WOxsp"
      },
      "execution_count": null,
      "outputs": []
    }
  ]
}